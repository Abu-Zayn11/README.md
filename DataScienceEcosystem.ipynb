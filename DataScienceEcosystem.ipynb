{
 "cells": [
  {
   "cell_type": "markdown",
   "id": "df987c90-b315-4c4f-aca1-f9870f55386d",
   "metadata": {
    "panel-layout": {
     "height": 94.3125,
     "visible": true,
     "width": 100
    }
   },
   "source": [
    "# Data Science Tools and Ecosystem"
   ]
  },
  {
   "cell_type": "markdown",
   "id": "6e5d3d08-cfab-443f-9e9a-3ffd3cf87ab3",
   "metadata": {
    "panel-layout": {
     "height": 64.03125,
     "visible": true,
     "width": 100
    }
   },
   "source": [
    "### In this notebook, Data Science Tools and Ecosystem are summarized. "
   ]
  },
  {
   "cell_type": "markdown",
   "id": "3bcfb067-1be5-41fa-a849-16d9b53d806a",
   "metadata": {
    "panel-layout": {
     "height": 149.578125,
     "visible": true,
     "width": 100
    }
   },
   "source": [
    "### Some of the popular languages that Data Scientists use are:\n",
    "1. Python\n",
    "2. R\n",
    "3. Julia\n",
    "4. C++"
   ]
  },
  {
   "cell_type": "markdown",
   "id": "8a15bcc7-f2e9-4154-ba26-d971a5ae6d85",
   "metadata": {
    "panel-layout": {
     "height": 132.4375,
     "visible": true,
     "width": 100
    }
   },
   "source": [
    "### Some of the commonly used libraries used by Data Scientists include: \n",
    "1. Pandas\n",
    "2. Keras\n",
    "3. MathPlotlib"
   ]
  },
  {
   "cell_type": "markdown",
   "id": "cad6a3e8-ac58-4435-9153-dcc2f7529910",
   "metadata": {},
   "source": [
    "---- Data Science Tools\n",
    "1. Visual Studio Code\n",
    "2. R Studio\n",
    "3. Anaconda\n"
   ]
  },
  {
   "cell_type": "markdown",
   "id": "633e5881-2827-4faf-acf6-8caca85e1df8",
   "metadata": {},
   "source": [
    "### Below are a few examples of evaluation arithmetic expressions in Python: \n",
    "1. 5 + 2\n",
    "2. 5 ** 2\n",
    "3. 5 / 2"
   ]
  },
  {
   "cell_type": "code",
   "execution_count": 1,
   "id": "ba2b2c4e-daec-480e-87d4-0741ed6f5cf3",
   "metadata": {},
   "outputs": [
    {
     "name": "stdout",
     "output_type": "stream",
     "text": [
      "17\n"
     ]
    }
   ],
   "source": [
    "x = (3*4)+5\n",
    "print(x)"
   ]
  },
  {
   "cell_type": "code",
   "execution_count": 3,
   "id": "0f0ee078-ecdf-4b12-9cbb-8490b0bf0f58",
   "metadata": {},
   "outputs": [
    {
     "name": "stdout",
     "output_type": "stream",
     "text": [
      "3.3333333333333335\n"
     ]
    }
   ],
   "source": [
    "#This will convert 200 minutes to hours by dividing by 60. \n",
    "y = 200 \n",
    "x = 60\n",
    "z = y/x\n",
    "print(z) "
   ]
  },
  {
   "cell_type": "markdown",
   "id": "e4265310-3f04-4e48-84be-cb820a5865e0",
   "metadata": {},
   "source": [
    "### Objectives:\n",
    "- Pandas\n",
    "- Kernels\n",
    "- Git\n",
    "- GitHub\n",
    "- Jupyter Lab"
   ]
  },
  {
   "cell_type": "markdown",
   "id": "cdf4bb84-d20c-46f2-9806-45456db9d974",
   "metadata": {},
   "source": [
    "## Author\n",
    "\n",
    "Jurry Taalib-Deen "
   ]
  },
  {
   "cell_type": "code",
   "execution_count": null,
   "id": "2b1d3ce2-4cd6-499e-b4f4-2e2f1e8da51e",
   "metadata": {},
   "outputs": [],
   "source": []
  }
 ],
 "metadata": {
  "kernelspec": {
   "display_name": "Python [conda env:base] *",
   "language": "python",
   "name": "conda-base-py"
  },
  "language_info": {
   "codemirror_mode": {
    "name": "ipython",
    "version": 3
   },
   "file_extension": ".py",
   "mimetype": "text/x-python",
   "name": "python",
   "nbconvert_exporter": "python",
   "pygments_lexer": "ipython3",
   "version": "3.13.5"
  },
  "panel-cell-order": [
   "df987c90-b315-4c4f-aca1-f9870f55386d",
   "6e5d3d08-cfab-443f-9e9a-3ffd3cf87ab3",
   "3bcfb067-1be5-41fa-a849-16d9b53d806a",
   "8a15bcc7-f2e9-4154-ba26-d971a5ae6d85"
  ]
 },
 "nbformat": 4,
 "nbformat_minor": 5
}
